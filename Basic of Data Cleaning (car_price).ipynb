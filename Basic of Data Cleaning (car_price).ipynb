{
 "cells": [
  {
   "cell_type": "code",
   "execution_count": 1,
   "id": "ed4fa199-9004-4411-b948-7ae3c0e5c5a0",
   "metadata": {},
   "outputs": [],
   "source": [
    "import pandas as pd\n",
    "import numpy as np\n",
    "import matplotlib.pyplot as plt\n",
    "import seaborn as sns"
   ]
  },
  {
   "cell_type": "markdown",
   "id": "596242e3-4ccb-4aca-a4e4-4b1de94a7aa0",
   "metadata": {},
   "source": [
    "# What is Data Cleaning?\n",
    "\n",
    " Data Cleaning is a process of fixing or removing incorrect, corrupted, incorrectly formated, duplicate or incomplete data with in the dataset. "
   ]
  },
  {
   "cell_type": "code",
   "execution_count": 2,
   "id": "6565f3ca-e306-4850-abca-d4a050521ced",
   "metadata": {},
   "outputs": [
    {
     "data": {
      "text/html": [
       "<div>\n",
       "<style scoped>\n",
       "    .dataframe tbody tr th:only-of-type {\n",
       "        vertical-align: middle;\n",
       "    }\n",
       "\n",
       "    .dataframe tbody tr th {\n",
       "        vertical-align: top;\n",
       "    }\n",
       "\n",
       "    .dataframe thead th {\n",
       "        text-align: right;\n",
       "    }\n",
       "</style>\n",
       "<table border=\"1\" class=\"dataframe\">\n",
       "  <thead>\n",
       "    <tr style=\"text-align: right;\">\n",
       "      <th></th>\n",
       "      <th>Unnamed: 0</th>\n",
       "      <th>car_name</th>\n",
       "      <th>car_prices_in_rupee</th>\n",
       "      <th>kms_driven</th>\n",
       "      <th>fuel_type</th>\n",
       "      <th>transmission</th>\n",
       "      <th>ownership</th>\n",
       "      <th>manufacture</th>\n",
       "      <th>engine</th>\n",
       "      <th>Seats</th>\n",
       "    </tr>\n",
       "  </thead>\n",
       "  <tbody>\n",
       "    <tr>\n",
       "      <th>0</th>\n",
       "      <td>0</td>\n",
       "      <td>Jeep Compass 2.0 Longitude Option BSIV</td>\n",
       "      <td>10.03 Lakh</td>\n",
       "      <td>86,226 kms</td>\n",
       "      <td>Diesel</td>\n",
       "      <td>Manual</td>\n",
       "      <td>1st Owner</td>\n",
       "      <td>2017</td>\n",
       "      <td>1956 cc</td>\n",
       "      <td>5 Seats</td>\n",
       "    </tr>\n",
       "    <tr>\n",
       "      <th>1</th>\n",
       "      <td>1</td>\n",
       "      <td>Renault Duster RXZ Turbo CVT</td>\n",
       "      <td>12.83 Lakh</td>\n",
       "      <td>13,248 kms</td>\n",
       "      <td>Petrol</td>\n",
       "      <td>Automatic</td>\n",
       "      <td>1st Owner</td>\n",
       "      <td>2021</td>\n",
       "      <td>1330 cc</td>\n",
       "      <td>5 Seats</td>\n",
       "    </tr>\n",
       "    <tr>\n",
       "      <th>2</th>\n",
       "      <td>2</td>\n",
       "      <td>Toyota Camry 2.5 G</td>\n",
       "      <td>16.40 Lakh</td>\n",
       "      <td>60,343 kms</td>\n",
       "      <td>Petrol</td>\n",
       "      <td>Automatic</td>\n",
       "      <td>1st Owner</td>\n",
       "      <td>2016</td>\n",
       "      <td>2494 cc</td>\n",
       "      <td>5 Seats</td>\n",
       "    </tr>\n",
       "    <tr>\n",
       "      <th>3</th>\n",
       "      <td>3</td>\n",
       "      <td>Honda Jazz VX CVT</td>\n",
       "      <td>7.77 Lakh</td>\n",
       "      <td>26,696 kms</td>\n",
       "      <td>Petrol</td>\n",
       "      <td>Automatic</td>\n",
       "      <td>1st Owner</td>\n",
       "      <td>2018</td>\n",
       "      <td>1199 cc</td>\n",
       "      <td>5 Seats</td>\n",
       "    </tr>\n",
       "    <tr>\n",
       "      <th>4</th>\n",
       "      <td>4</td>\n",
       "      <td>Volkswagen Polo 1.2 MPI Highline</td>\n",
       "      <td>5.15 Lakh</td>\n",
       "      <td>69,414 kms</td>\n",
       "      <td>Petrol</td>\n",
       "      <td>Manual</td>\n",
       "      <td>1st Owner</td>\n",
       "      <td>2016</td>\n",
       "      <td>1199 cc</td>\n",
       "      <td>5 Seats</td>\n",
       "    </tr>\n",
       "  </tbody>\n",
       "</table>\n",
       "</div>"
      ],
      "text/plain": [
       "   Unnamed: 0                                car_name car_prices_in_rupee  \\\n",
       "0           0  Jeep Compass 2.0 Longitude Option BSIV          10.03 Lakh   \n",
       "1           1            Renault Duster RXZ Turbo CVT          12.83 Lakh   \n",
       "2           2                      Toyota Camry 2.5 G          16.40 Lakh   \n",
       "3           3                       Honda Jazz VX CVT           7.77 Lakh   \n",
       "4           4        Volkswagen Polo 1.2 MPI Highline           5.15 Lakh   \n",
       "\n",
       "   kms_driven fuel_type transmission  ownership  manufacture   engine    Seats  \n",
       "0  86,226 kms    Diesel       Manual  1st Owner         2017  1956 cc  5 Seats  \n",
       "1  13,248 kms    Petrol    Automatic  1st Owner         2021  1330 cc  5 Seats  \n",
       "2  60,343 kms    Petrol    Automatic  1st Owner         2016  2494 cc  5 Seats  \n",
       "3  26,696 kms    Petrol    Automatic  1st Owner         2018  1199 cc  5 Seats  \n",
       "4  69,414 kms    Petrol       Manual  1st Owner         2016  1199 cc  5 Seats  "
      ]
     },
     "execution_count": 2,
     "metadata": {},
     "output_type": "execute_result"
    }
   ],
   "source": [
    "# Importing Dataset\n",
    "\n",
    "dataset = pd.read_csv(\"Car_Price.csv\")\n",
    "dataset.head(5)"
   ]
  },
  {
   "cell_type": "code",
   "execution_count": 3,
   "id": "be9f3a4e-014a-4106-834d-122690b382f1",
   "metadata": {},
   "outputs": [
    {
     "name": "stdout",
     "output_type": "stream",
     "text": [
      "<class 'pandas.core.frame.DataFrame'>\n",
      "RangeIndex: 5512 entries, 0 to 5511\n",
      "Data columns (total 10 columns):\n",
      " #   Column               Non-Null Count  Dtype \n",
      "---  ------               --------------  ----- \n",
      " 0   Unnamed: 0           5512 non-null   int64 \n",
      " 1   car_name             5512 non-null   object\n",
      " 2   car_prices_in_rupee  5512 non-null   object\n",
      " 3   kms_driven           5512 non-null   object\n",
      " 4   fuel_type            5512 non-null   object\n",
      " 5   transmission         5512 non-null   object\n",
      " 6   ownership            5512 non-null   object\n",
      " 7   manufacture          5512 non-null   int64 \n",
      " 8   engine               5512 non-null   object\n",
      " 9   Seats                5512 non-null   object\n",
      "dtypes: int64(2), object(8)\n",
      "memory usage: 430.8+ KB\n"
     ]
    }
   ],
   "source": [
    "# Checking Datatype\n",
    "\n",
    "dataset.info()"
   ]
  },
  {
   "cell_type": "code",
   "execution_count": 4,
   "id": "7952480d-7fd2-4e03-9063-3deb0f652b70",
   "metadata": {},
   "outputs": [],
   "source": [
    "# Deleting Unwanted Column.\n",
    "\n",
    "dataset = dataset.drop([\"Unnamed: 0\"],axis=1)          # the code is correct."
   ]
  },
  {
   "cell_type": "code",
   "execution_count": 5,
   "id": "b9c79862-1d0d-4ea1-a1c8-e46f29e57df2",
   "metadata": {},
   "outputs": [
    {
     "data": {
      "text/html": [
       "<div>\n",
       "<style scoped>\n",
       "    .dataframe tbody tr th:only-of-type {\n",
       "        vertical-align: middle;\n",
       "    }\n",
       "\n",
       "    .dataframe tbody tr th {\n",
       "        vertical-align: top;\n",
       "    }\n",
       "\n",
       "    .dataframe thead th {\n",
       "        text-align: right;\n",
       "    }\n",
       "</style>\n",
       "<table border=\"1\" class=\"dataframe\">\n",
       "  <thead>\n",
       "    <tr style=\"text-align: right;\">\n",
       "      <th></th>\n",
       "      <th>car_name</th>\n",
       "      <th>car_prices_in_rupee</th>\n",
       "      <th>kms_driven</th>\n",
       "      <th>fuel_type</th>\n",
       "      <th>transmission</th>\n",
       "      <th>ownership</th>\n",
       "      <th>manufacture</th>\n",
       "      <th>engine</th>\n",
       "      <th>Seats</th>\n",
       "    </tr>\n",
       "  </thead>\n",
       "  <tbody>\n",
       "    <tr>\n",
       "      <th>0</th>\n",
       "      <td>Jeep Compass 2.0 Longitude Option BSIV</td>\n",
       "      <td>10.03 Lakh</td>\n",
       "      <td>86,226 kms</td>\n",
       "      <td>Diesel</td>\n",
       "      <td>Manual</td>\n",
       "      <td>1st Owner</td>\n",
       "      <td>2017</td>\n",
       "      <td>1956 cc</td>\n",
       "      <td>5 Seats</td>\n",
       "    </tr>\n",
       "  </tbody>\n",
       "</table>\n",
       "</div>"
      ],
      "text/plain": [
       "                                 car_name car_prices_in_rupee  kms_driven  \\\n",
       "0  Jeep Compass 2.0 Longitude Option BSIV          10.03 Lakh  86,226 kms   \n",
       "\n",
       "  fuel_type transmission  ownership  manufacture   engine    Seats  \n",
       "0    Diesel       Manual  1st Owner         2017  1956 cc  5 Seats  "
      ]
     },
     "execution_count": 5,
     "metadata": {},
     "output_type": "execute_result"
    }
   ],
   "source": [
    "dataset.head(1)"
   ]
  },
  {
   "cell_type": "code",
   "execution_count": 6,
   "id": "17aa746d-b376-4757-8c21-74963a66a97c",
   "metadata": {},
   "outputs": [
    {
     "data": {
      "text/plain": [
       "(5512, 9)"
      ]
     },
     "execution_count": 6,
     "metadata": {},
     "output_type": "execute_result"
    }
   ],
   "source": [
    "dataset.shape"
   ]
  },
  {
   "cell_type": "code",
   "execution_count": 7,
   "id": "48a7d12c-89b4-460b-a11b-5957dc266679",
   "metadata": {},
   "outputs": [
    {
     "data": {
      "text/html": [
       "<div>\n",
       "<style scoped>\n",
       "    .dataframe tbody tr th:only-of-type {\n",
       "        vertical-align: middle;\n",
       "    }\n",
       "\n",
       "    .dataframe tbody tr th {\n",
       "        vertical-align: top;\n",
       "    }\n",
       "\n",
       "    .dataframe thead th {\n",
       "        text-align: right;\n",
       "    }\n",
       "</style>\n",
       "<table border=\"1\" class=\"dataframe\">\n",
       "  <thead>\n",
       "    <tr style=\"text-align: right;\">\n",
       "      <th></th>\n",
       "      <th>count</th>\n",
       "      <th>mean</th>\n",
       "      <th>std</th>\n",
       "      <th>min</th>\n",
       "      <th>25%</th>\n",
       "      <th>50%</th>\n",
       "      <th>75%</th>\n",
       "      <th>max</th>\n",
       "    </tr>\n",
       "  </thead>\n",
       "  <tbody>\n",
       "    <tr>\n",
       "      <th>manufacture</th>\n",
       "      <td>5512.0</td>\n",
       "      <td>2015.455552</td>\n",
       "      <td>3.927974</td>\n",
       "      <td>1995.0</td>\n",
       "      <td>2013.0</td>\n",
       "      <td>2016.0</td>\n",
       "      <td>2018.0</td>\n",
       "      <td>2022.0</td>\n",
       "    </tr>\n",
       "  </tbody>\n",
       "</table>\n",
       "</div>"
      ],
      "text/plain": [
       "              count         mean       std     min     25%     50%     75%  \\\n",
       "manufacture  5512.0  2015.455552  3.927974  1995.0  2013.0  2016.0  2018.0   \n",
       "\n",
       "                max  \n",
       "manufacture  2022.0  "
      ]
     },
     "execution_count": 7,
     "metadata": {},
     "output_type": "execute_result"
    }
   ],
   "source": [
    "dataset.describe().T"
   ]
  },
  {
   "cell_type": "markdown",
   "id": "81b41b68-3f4a-4e52-9506-1ddd572f1a63",
   "metadata": {},
   "source": [
    "# Handling Missing Values"
   ]
  },
  {
   "cell_type": "code",
   "execution_count": 8,
   "id": "4f48f51e-6579-47d2-b543-6479dbe5f11f",
   "metadata": {},
   "outputs": [
    {
     "data": {
      "text/plain": [
       "car_name               0\n",
       "car_prices_in_rupee    0\n",
       "kms_driven             0\n",
       "fuel_type              0\n",
       "transmission           0\n",
       "ownership              0\n",
       "manufacture            0\n",
       "engine                 0\n",
       "Seats                  0\n",
       "dtype: int64"
      ]
     },
     "execution_count": 8,
     "metadata": {},
     "output_type": "execute_result"
    }
   ],
   "source": [
    "dataset.isnull().sum()"
   ]
  },
  {
   "cell_type": "code",
   "execution_count": 9,
   "id": "ba83ae14-fcbc-4b05-8bef-b905afef050c",
   "metadata": {},
   "outputs": [],
   "source": [
    "# There are No missing values avalible in this dataset."
   ]
  },
  {
   "cell_type": "code",
   "execution_count": 10,
   "id": "e173a8c2-45ce-4714-bb0a-b85e93d1116c",
   "metadata": {},
   "outputs": [],
   "source": [
    "# If there was a missing value avalible then the missing value would be removed or filled upward/backward.\n",
    "\n",
    "# dataset.dropna(inplace = True) ----> To Remove missing value.\n",
    "# dataset.fillna(method = \"ffill\")  ----> To fill upward."
   ]
  },
  {
   "cell_type": "markdown",
   "id": "02335c2e-6ef1-4614-a442-e33dbe9740de",
   "metadata": {},
   "source": [
    "# Standardizing Data Formats"
   ]
  },
  {
   "cell_type": "code",
   "execution_count": 11,
   "id": "4ea73a9c-8633-4fe1-a13e-2f045c7149f3",
   "metadata": {},
   "outputs": [],
   "source": [
    "# Here we will perform Data Cleaning in all the Columns one by one."
   ]
  },
  {
   "cell_type": "markdown",
   "id": "ced7c40c-81f3-4838-a02f-272fb0ec4c73",
   "metadata": {},
   "source": [
    "# car_name (column 1)"
   ]
  },
  {
   "cell_type": "code",
   "execution_count": 12,
   "id": "27ec88ab-daf1-47c9-a5cf-780db2c69a18",
   "metadata": {},
   "outputs": [
    {
     "data": {
      "text/plain": [
       "0       Jeep Compass 2.0 Longitude Option BSIV\n",
       "1                 Renault Duster RXZ Turbo CVT\n",
       "2                           Toyota Camry 2.5 G\n",
       "3                            Honda Jazz VX CVT\n",
       "4             Volkswagen Polo 1.2 MPI Highline\n",
       "                         ...                  \n",
       "5507                   BMW X1 sDrive 20d xLine\n",
       "5508                     BMW M Series M4 Coupe\n",
       "5509                Jaguar XF 2.2 Litre Luxury\n",
       "5510                        BMW 7 Series 730Ld\n",
       "5511                 BMW 5 Series 520d M Sport\n",
       "Name: car_name, Length: 5512, dtype: object"
      ]
     },
     "execution_count": 12,
     "metadata": {},
     "output_type": "execute_result"
    }
   ],
   "source": [
    "dataset[\"car_name\"]"
   ]
  },
  {
   "cell_type": "code",
   "execution_count": 13,
   "id": "19ab0a42-3f02-450e-8c7e-a4da9b10308f",
   "metadata": {},
   "outputs": [
    {
     "data": {
      "text/plain": [
       "'Jeep Compass 2.0 Longitude Option BSIV'"
      ]
     },
     "execution_count": 13,
     "metadata": {},
     "output_type": "execute_result"
    }
   ],
   "source": [
    "dataset[\"car_name\"][0]"
   ]
  },
  {
   "cell_type": "markdown",
   "id": "8dd92e84-44a0-4cdd-97f0-5e690ebd5386",
   "metadata": {},
   "source": [
    "* Problem Statement :\n",
    "     * Company name and Car name lies in Same column. so, we need to supperate them in two different columns."
   ]
  },
  {
   "cell_type": "code",
   "execution_count": 14,
   "id": "b6f318f0-6a07-48a5-b278-b57b31bbde6b",
   "metadata": {},
   "outputs": [
    {
     "data": {
      "text/plain": [
       "'Jeep'"
      ]
     },
     "execution_count": 14,
     "metadata": {},
     "output_type": "execute_result"
    }
   ],
   "source": [
    "# extracting company name from column.\n",
    "\n",
    "x = dataset[\"car_name\"][0]\n",
    "x[:x.index(\" \")]            # here the space \"\" (\" \") \"\" represents the space that comes after company name \"\" Jeep  \"\".\n",
    "\n",
    "# Now the company name is extracted."
   ]
  },
  {
   "cell_type": "code",
   "execution_count": 15,
   "id": "8b527f16-d4a2-42ee-9a84-cd25ee0ed16b",
   "metadata": {},
   "outputs": [
    {
     "data": {
      "text/plain": [
       "0             Jeep\n",
       "1          Renault\n",
       "2           Toyota\n",
       "3            Honda\n",
       "4       Volkswagen\n",
       "           ...    \n",
       "5507           BMW\n",
       "5508           BMW\n",
       "5509        Jaguar\n",
       "5510           BMW\n",
       "5511           BMW\n",
       "Name: car_name, Length: 5512, dtype: object"
      ]
     },
     "execution_count": 15,
     "metadata": {},
     "output_type": "execute_result"
    }
   ],
   "source": [
    "# Now aplly this step in whole dataset.\n",
    "\n",
    "def company_name(x):\n",
    "    return x[:x.index(\" \")]\n",
    "dataset[\"car_name\"].apply(company_name)"
   ]
  },
  {
   "cell_type": "code",
   "execution_count": 16,
   "id": "b77c2303-6f3b-4636-9c93-057c0f509389",
   "metadata": {},
   "outputs": [],
   "source": [
    "# adding \"company_name\" column to the dataset.  OR   saving the changes to dataset.\n",
    "\n",
    "dataset[\"company_name\"] = dataset[\"car_name\"].apply(company_name)"
   ]
  },
  {
   "cell_type": "code",
   "execution_count": 17,
   "id": "09f2797a-ec3f-4bd5-986e-f0779d6648e7",
   "metadata": {},
   "outputs": [
    {
     "data": {
      "text/html": [
       "<div>\n",
       "<style scoped>\n",
       "    .dataframe tbody tr th:only-of-type {\n",
       "        vertical-align: middle;\n",
       "    }\n",
       "\n",
       "    .dataframe tbody tr th {\n",
       "        vertical-align: top;\n",
       "    }\n",
       "\n",
       "    .dataframe thead th {\n",
       "        text-align: right;\n",
       "    }\n",
       "</style>\n",
       "<table border=\"1\" class=\"dataframe\">\n",
       "  <thead>\n",
       "    <tr style=\"text-align: right;\">\n",
       "      <th></th>\n",
       "      <th>car_name</th>\n",
       "      <th>car_prices_in_rupee</th>\n",
       "      <th>kms_driven</th>\n",
       "      <th>fuel_type</th>\n",
       "      <th>transmission</th>\n",
       "      <th>ownership</th>\n",
       "      <th>manufacture</th>\n",
       "      <th>engine</th>\n",
       "      <th>Seats</th>\n",
       "      <th>company_name</th>\n",
       "    </tr>\n",
       "  </thead>\n",
       "  <tbody>\n",
       "    <tr>\n",
       "      <th>0</th>\n",
       "      <td>Jeep Compass 2.0 Longitude Option BSIV</td>\n",
       "      <td>10.03 Lakh</td>\n",
       "      <td>86,226 kms</td>\n",
       "      <td>Diesel</td>\n",
       "      <td>Manual</td>\n",
       "      <td>1st Owner</td>\n",
       "      <td>2017</td>\n",
       "      <td>1956 cc</td>\n",
       "      <td>5 Seats</td>\n",
       "      <td>Jeep</td>\n",
       "    </tr>\n",
       "  </tbody>\n",
       "</table>\n",
       "</div>"
      ],
      "text/plain": [
       "                                 car_name car_prices_in_rupee  kms_driven  \\\n",
       "0  Jeep Compass 2.0 Longitude Option BSIV          10.03 Lakh  86,226 kms   \n",
       "\n",
       "  fuel_type transmission  ownership  manufacture   engine    Seats  \\\n",
       "0    Diesel       Manual  1st Owner         2017  1956 cc  5 Seats   \n",
       "\n",
       "  company_name  \n",
       "0         Jeep  "
      ]
     },
     "execution_count": 17,
     "metadata": {},
     "output_type": "execute_result"
    }
   ],
   "source": [
    "dataset.head(1)"
   ]
  },
  {
   "cell_type": "code",
   "execution_count": 18,
   "id": "8296b618-8af2-4dad-bdc0-f91b9655f310",
   "metadata": {},
   "outputs": [
    {
     "data": {
      "text/plain": [
       "0       Compass 2.0 Longitude Option BSIV\n",
       "1                    Duster RXZ Turbo CVT\n",
       "2                             Camry 2.5 G\n",
       "3                             Jazz VX CVT\n",
       "4                   Polo 1.2 MPI Highline\n",
       "                      ...                \n",
       "5507                  X1 sDrive 20d xLine\n",
       "5508                    M Series M4 Coupe\n",
       "5509                  XF 2.2 Litre Luxury\n",
       "5510                       7 Series 730Ld\n",
       "5511                5 Series 520d M Sport\n",
       "Name: car_name, Length: 5512, dtype: object"
      ]
     },
     "execution_count": 18,
     "metadata": {},
     "output_type": "execute_result"
    }
   ],
   "source": [
    "# Extracting car_name.\n",
    "\n",
    "def car_name(x):\n",
    "    return x[x.index(\" \")+1:]\n",
    "dataset[\"car_name\"].apply(car_name)"
   ]
  },
  {
   "cell_type": "code",
   "execution_count": 19,
   "id": "23747c59-3ce8-4ec0-b632-beeb6827cb11",
   "metadata": {},
   "outputs": [],
   "source": [
    "# adding \"car_name\" column to the dataset. OR  saving the changes to dataset.\n",
    "\n",
    "dataset[\"car_name\"] = dataset[\"car_name\"].apply(car_name)"
   ]
  },
  {
   "cell_type": "code",
   "execution_count": 20,
   "id": "a8793b51-0310-4b5d-a658-0b21f7aae0fa",
   "metadata": {},
   "outputs": [
    {
     "data": {
      "text/html": [
       "<div>\n",
       "<style scoped>\n",
       "    .dataframe tbody tr th:only-of-type {\n",
       "        vertical-align: middle;\n",
       "    }\n",
       "\n",
       "    .dataframe tbody tr th {\n",
       "        vertical-align: top;\n",
       "    }\n",
       "\n",
       "    .dataframe thead th {\n",
       "        text-align: right;\n",
       "    }\n",
       "</style>\n",
       "<table border=\"1\" class=\"dataframe\">\n",
       "  <thead>\n",
       "    <tr style=\"text-align: right;\">\n",
       "      <th></th>\n",
       "      <th>car_name</th>\n",
       "      <th>car_prices_in_rupee</th>\n",
       "      <th>kms_driven</th>\n",
       "      <th>fuel_type</th>\n",
       "      <th>transmission</th>\n",
       "      <th>ownership</th>\n",
       "      <th>manufacture</th>\n",
       "      <th>engine</th>\n",
       "      <th>Seats</th>\n",
       "      <th>company_name</th>\n",
       "    </tr>\n",
       "  </thead>\n",
       "  <tbody>\n",
       "    <tr>\n",
       "      <th>0</th>\n",
       "      <td>Compass 2.0 Longitude Option BSIV</td>\n",
       "      <td>10.03 Lakh</td>\n",
       "      <td>86,226 kms</td>\n",
       "      <td>Diesel</td>\n",
       "      <td>Manual</td>\n",
       "      <td>1st Owner</td>\n",
       "      <td>2017</td>\n",
       "      <td>1956 cc</td>\n",
       "      <td>5 Seats</td>\n",
       "      <td>Jeep</td>\n",
       "    </tr>\n",
       "    <tr>\n",
       "      <th>1</th>\n",
       "      <td>Duster RXZ Turbo CVT</td>\n",
       "      <td>12.83 Lakh</td>\n",
       "      <td>13,248 kms</td>\n",
       "      <td>Petrol</td>\n",
       "      <td>Automatic</td>\n",
       "      <td>1st Owner</td>\n",
       "      <td>2021</td>\n",
       "      <td>1330 cc</td>\n",
       "      <td>5 Seats</td>\n",
       "      <td>Renault</td>\n",
       "    </tr>\n",
       "  </tbody>\n",
       "</table>\n",
       "</div>"
      ],
      "text/plain": [
       "                            car_name car_prices_in_rupee  kms_driven  \\\n",
       "0  Compass 2.0 Longitude Option BSIV          10.03 Lakh  86,226 kms   \n",
       "1               Duster RXZ Turbo CVT          12.83 Lakh  13,248 kms   \n",
       "\n",
       "  fuel_type transmission  ownership  manufacture   engine    Seats  \\\n",
       "0    Diesel       Manual  1st Owner         2017  1956 cc  5 Seats   \n",
       "1    Petrol    Automatic  1st Owner         2021  1330 cc  5 Seats   \n",
       "\n",
       "  company_name  \n",
       "0         Jeep  \n",
       "1      Renault  "
      ]
     },
     "execution_count": 20,
     "metadata": {},
     "output_type": "execute_result"
    }
   ],
   "source": [
    "dataset.head(2)"
   ]
  },
  {
   "cell_type": "markdown",
   "id": "baab62fc-98cf-41cc-9c5c-aea9e4b027e3",
   "metadata": {},
   "source": [
    "# car_prices_in_rupee (column 2)"
   ]
  },
  {
   "cell_type": "code",
   "execution_count": 21,
   "id": "ffc8f61c-98c5-4d97-ab91-31fd3d675276",
   "metadata": {},
   "outputs": [
    {
     "data": {
      "text/plain": [
       "0       10.03 Lakh\n",
       "1       12.83 Lakh\n",
       "2       16.40 Lakh\n",
       "3        7.77 Lakh\n",
       "4        5.15 Lakh\n",
       "           ...    \n",
       "5507    28.90 Lakh\n",
       "5508    64.90 Lakh\n",
       "5509    13.75 Lakh\n",
       "5510    29.90 Lakh\n",
       "5511    31.90 Lakh\n",
       "Name: car_prices_in_rupee, Length: 5512, dtype: object"
      ]
     },
     "execution_count": 21,
     "metadata": {},
     "output_type": "execute_result"
    }
   ],
   "source": [
    "dataset[\"car_prices_in_rupee\"]"
   ]
  },
  {
   "cell_type": "markdown",
   "id": "ef772f57-ab67-48e6-afe2-fed7d34e1c61",
   "metadata": {},
   "source": [
    "* Problem Statement :\n",
    "   * The Data is not in number format. it is in mixed format like decimal, coma, string etc. Data should be in same format.\n",
    "   * Mistakes :- 35,000  ,  28.90 Lakh  , 1.02 Crore. All the formats are different"
   ]
  },
  {
   "cell_type": "code",
   "execution_count": 22,
   "id": "52b26b19-9e0f-488b-8503-8ef6233eaf7d",
   "metadata": {},
   "outputs": [
    {
     "data": {
      "text/plain": [
       "0       10.03 Lakh\n",
       "1       12.83 Lakh\n",
       "2       16.40 Lakh\n",
       "3        7.77 Lakh\n",
       "4        5.15 Lakh\n",
       "           ...    \n",
       "5507    28.90 Lakh\n",
       "5508    64.90 Lakh\n",
       "5509    13.75 Lakh\n",
       "5510    29.90 Lakh\n",
       "5511    31.90 Lakh\n",
       "Name: car_prices_in_rupee, Length: 5512, dtype: object"
      ]
     },
     "execution_count": 22,
     "metadata": {},
     "output_type": "execute_result"
    }
   ],
   "source": [
    "# Replacing or Removing coma (35,000)\n",
    "\n",
    "dataset[\"car_prices_in_rupee\"].str.replace(\",\",\"\")"
   ]
  },
  {
   "cell_type": "code",
   "execution_count": 23,
   "id": "e02b05fe-262f-453d-9dab-43c312ff12f3",
   "metadata": {},
   "outputs": [],
   "source": [
    "# saving the changes to dataset.\n",
    "\n",
    "dataset[\"car_prices_in_rupee\"] = dataset[\"car_prices_in_rupee\"].str.replace(\",\",\"\")"
   ]
  },
  {
   "cell_type": "code",
   "execution_count": 24,
   "id": "2de01017-da3f-494e-b068-8d018b7a71a6",
   "metadata": {},
   "outputs": [],
   "source": [
    "# Convert Lakh and Crore to Thousands.\n",
    "\n",
    "def rupee_change(x):\n",
    "    p = x.split(\" \")\n",
    "    try:\n",
    "        if p[1] == \"Lakh\":\n",
    "            return str(round(float(p[0])*100000,1))\n",
    "        elif p[1] == \"Crore\":\n",
    "            return str(round(float(p[0])*10000000,1))\n",
    "    except:\n",
    "        return x"
   ]
  },
  {
   "cell_type": "code",
   "execution_count": 25,
   "id": "720a86c2-ce55-4eb1-b88b-cd531dacf85a",
   "metadata": {},
   "outputs": [
    {
     "data": {
      "text/plain": [
       "0       1003000.0\n",
       "1       1283000.0\n",
       "2       1640000.0\n",
       "3        777000.0\n",
       "4        515000.0\n",
       "          ...    \n",
       "5507    2890000.0\n",
       "5508    6490000.0\n",
       "5509    1375000.0\n",
       "5510    2990000.0\n",
       "5511    3190000.0\n",
       "Name: car_prices_in_rupee, Length: 5512, dtype: object"
      ]
     },
     "execution_count": 25,
     "metadata": {},
     "output_type": "execute_result"
    }
   ],
   "source": [
    "dataset[\"car_prices_in_rupee\"].apply(rupee_change)"
   ]
  },
  {
   "cell_type": "code",
   "execution_count": 26,
   "id": "7dbd9f02-c3bd-4c10-b6cd-aadc14b1e845",
   "metadata": {},
   "outputs": [],
   "source": [
    "# saving the changes to dataset.\n",
    "\n",
    "dataset[\"car_prices_in_rupee\"] = dataset[\"car_prices_in_rupee\"].apply(rupee_change)"
   ]
  },
  {
   "cell_type": "code",
   "execution_count": 27,
   "id": "9eaa9cfb-28d4-432f-9815-cbcc6cdd30ae",
   "metadata": {},
   "outputs": [
    {
     "data": {
      "text/plain": [
       "0       1003000.0\n",
       "1       1283000.0\n",
       "2       1640000.0\n",
       "3        777000.0\n",
       "4        515000.0\n",
       "          ...    \n",
       "5507    2890000.0\n",
       "5508    6490000.0\n",
       "5509    1375000.0\n",
       "5510    2990000.0\n",
       "5511    3190000.0\n",
       "Name: car_prices_in_rupee, Length: 5512, dtype: float64"
      ]
     },
     "execution_count": 27,
     "metadata": {},
     "output_type": "execute_result"
    }
   ],
   "source": [
    "# Changing Datatype to float.\n",
    "\n",
    "dataset[\"car_prices_in_rupee\"].astype(\"float\")"
   ]
  },
  {
   "cell_type": "code",
   "execution_count": 28,
   "id": "c29d6fda-a841-45c1-b7b3-9ccba7a489bf",
   "metadata": {},
   "outputs": [],
   "source": [
    "# saving the changes to dataset.\n",
    "\n",
    "dataset[\"car_prices_in_rupee\"] = dataset[\"car_prices_in_rupee\"].astype(\"float\")"
   ]
  },
  {
   "cell_type": "code",
   "execution_count": 29,
   "id": "04d23d76-8285-4153-a4f0-f0ebac994f0b",
   "metadata": {},
   "outputs": [
    {
     "name": "stdout",
     "output_type": "stream",
     "text": [
      "<class 'pandas.core.frame.DataFrame'>\n",
      "RangeIndex: 5512 entries, 0 to 5511\n",
      "Data columns (total 10 columns):\n",
      " #   Column               Non-Null Count  Dtype  \n",
      "---  ------               --------------  -----  \n",
      " 0   car_name             5512 non-null   object \n",
      " 1   car_prices_in_rupee  5389 non-null   float64\n",
      " 2   kms_driven           5512 non-null   object \n",
      " 3   fuel_type            5512 non-null   object \n",
      " 4   transmission         5512 non-null   object \n",
      " 5   ownership            5512 non-null   object \n",
      " 6   manufacture          5512 non-null   int64  \n",
      " 7   engine               5512 non-null   object \n",
      " 8   Seats                5512 non-null   object \n",
      " 9   company_name         5512 non-null   object \n",
      "dtypes: float64(1), int64(1), object(8)\n",
      "memory usage: 430.8+ KB\n"
     ]
    }
   ],
   "source": [
    "dataset.info()    # Datatype is changed to float."
   ]
  },
  {
   "cell_type": "markdown",
   "id": "526b30dc-58cc-4799-bf18-1ce1fb88cb22",
   "metadata": {},
   "source": [
    "# kms_driven (column 3)"
   ]
  },
  {
   "cell_type": "code",
   "execution_count": 30,
   "id": "125f0aa0-ee77-4555-9c26-054eb5a7d4e5",
   "metadata": {},
   "outputs": [
    {
     "data": {
      "text/plain": [
       "0       86,226 kms\n",
       "1       13,248 kms\n",
       "2       60,343 kms\n",
       "3       26,696 kms\n",
       "4       69,414 kms\n",
       "           ...    \n",
       "5507    45,000 kms\n",
       "5508    29,000 kms\n",
       "5509    90,000 kms\n",
       "5510    79,000 kms\n",
       "5511    42,000 kms\n",
       "Name: kms_driven, Length: 5512, dtype: object"
      ]
     },
     "execution_count": 30,
     "metadata": {},
     "output_type": "execute_result"
    }
   ],
   "source": [
    "dataset[\"kms_driven\"]"
   ]
  },
  {
   "cell_type": "markdown",
   "id": "4c569ef5-89ca-4167-a78d-ea117839a4cf",
   "metadata": {},
   "source": [
    "* Problem Statement : \n",
    "  * Datatype is in Object which is incorrect.So, by removing coma we have to convert datatype from object to float.\n",
    "  * \"kms\" should be removed."
   ]
  },
  {
   "cell_type": "code",
   "execution_count": 31,
   "id": "51dac931-2928-463c-935c-b3bd55dfb311",
   "metadata": {},
   "outputs": [
    {
     "data": {
      "text/plain": [
       "0       86226 kms\n",
       "1       13248 kms\n",
       "2       60343 kms\n",
       "3       26696 kms\n",
       "4       69414 kms\n",
       "          ...    \n",
       "5507    45000 kms\n",
       "5508    29000 kms\n",
       "5509    90000 kms\n",
       "5510    79000 kms\n",
       "5511    42000 kms\n",
       "Name: kms_driven, Length: 5512, dtype: object"
      ]
     },
     "execution_count": 31,
     "metadata": {},
     "output_type": "execute_result"
    }
   ],
   "source": [
    "# removing coma.\n",
    "\n",
    "dataset[\"kms_driven\"].str.replace(\",\",\"\")"
   ]
  },
  {
   "cell_type": "code",
   "execution_count": 32,
   "id": "62351af6-505e-40d4-80fa-5fb676944855",
   "metadata": {},
   "outputs": [],
   "source": [
    "# saving the changes to dataset.\n",
    "\n",
    "dataset[\"kms_driven\"] = dataset[\"kms_driven\"].str.replace(\",\",\"\")"
   ]
  },
  {
   "cell_type": "code",
   "execution_count": 33,
   "id": "986d1420-c667-48fa-a716-35dd4f4930b0",
   "metadata": {},
   "outputs": [
    {
     "data": {
      "text/plain": [
       "0       86226\n",
       "1       13248\n",
       "2       60343\n",
       "3       26696\n",
       "4       69414\n",
       "        ...  \n",
       "5507    45000\n",
       "5508    29000\n",
       "5509    90000\n",
       "5510    79000\n",
       "5511    42000\n",
       "Name: kms_driven, Length: 5512, dtype: object"
      ]
     },
     "execution_count": 33,
     "metadata": {},
     "output_type": "execute_result"
    }
   ],
   "source": [
    "# Removing \"kms\".\n",
    "\n",
    "dataset[\"kms_driven\"].str.replace(\" kms\",\"\")"
   ]
  },
  {
   "cell_type": "code",
   "execution_count": 34,
   "id": "7479ed1c-b287-4b0b-9050-1912baf6dea0",
   "metadata": {},
   "outputs": [],
   "source": [
    "# saving the changes to dataset.\n",
    "\n",
    "dataset[\"kms_driven\"] = dataset[\"kms_driven\"].str.replace(\" kms\",\"\")"
   ]
  },
  {
   "cell_type": "code",
   "execution_count": 35,
   "id": "e0cb98dd-d151-4d17-a89a-aa981aa15cdc",
   "metadata": {},
   "outputs": [
    {
     "data": {
      "text/plain": [
       "0       86226\n",
       "1       13248\n",
       "2       60343\n",
       "3       26696\n",
       "4       69414\n",
       "        ...  \n",
       "5507    45000\n",
       "5508    29000\n",
       "5509    90000\n",
       "5510    79000\n",
       "5511    42000\n",
       "Name: kms_driven, Length: 5512, dtype: int64"
      ]
     },
     "execution_count": 35,
     "metadata": {},
     "output_type": "execute_result"
    }
   ],
   "source": [
    "# Changing Datatype from Object to Int.\n",
    "\n",
    "dataset[\"kms_driven\"].astype(\"int64\")                # here \"int64\" reffers to 64bit, our system supports 64bit thats why we kept int as int64."
   ]
  },
  {
   "cell_type": "code",
   "execution_count": 36,
   "id": "69216389-8b76-4422-a00b-2d267ee05149",
   "metadata": {},
   "outputs": [],
   "source": [
    "# saving the changes to dataset.\n",
    "\n",
    "dataset[\"kms_driven\"] = dataset[\"kms_driven\"].astype(\"int64\")"
   ]
  },
  {
   "cell_type": "code",
   "execution_count": 37,
   "id": "910e4ceb-e434-4bae-b9a5-e663982d376b",
   "metadata": {},
   "outputs": [
    {
     "name": "stdout",
     "output_type": "stream",
     "text": [
      "<class 'pandas.core.frame.DataFrame'>\n",
      "RangeIndex: 5512 entries, 0 to 5511\n",
      "Data columns (total 10 columns):\n",
      " #   Column               Non-Null Count  Dtype  \n",
      "---  ------               --------------  -----  \n",
      " 0   car_name             5512 non-null   object \n",
      " 1   car_prices_in_rupee  5389 non-null   float64\n",
      " 2   kms_driven           5512 non-null   int64  \n",
      " 3   fuel_type            5512 non-null   object \n",
      " 4   transmission         5512 non-null   object \n",
      " 5   ownership            5512 non-null   object \n",
      " 6   manufacture          5512 non-null   int64  \n",
      " 7   engine               5512 non-null   object \n",
      " 8   Seats                5512 non-null   object \n",
      " 9   company_name         5512 non-null   object \n",
      "dtypes: float64(1), int64(2), object(7)\n",
      "memory usage: 430.8+ KB\n"
     ]
    }
   ],
   "source": [
    "dataset.info()"
   ]
  },
  {
   "cell_type": "markdown",
   "id": "5947cb6e-75b1-4da9-a5c4-cf7a211e5f6c",
   "metadata": {},
   "source": [
    "# fuel_type (column 4)"
   ]
  },
  {
   "cell_type": "code",
   "execution_count": 38,
   "id": "710fc22a-8bdc-4bc2-a8ce-adba73bc5b84",
   "metadata": {},
   "outputs": [
    {
     "data": {
      "text/plain": [
       "0       Diesel\n",
       "1       Petrol\n",
       "2       Petrol\n",
       "3       Petrol\n",
       "4       Petrol\n",
       "         ...  \n",
       "5507    Diesel\n",
       "5508    Petrol\n",
       "5509    Diesel\n",
       "5510    Diesel\n",
       "5511    Diesel\n",
       "Name: fuel_type, Length: 5512, dtype: object"
      ]
     },
     "execution_count": 38,
     "metadata": {},
     "output_type": "execute_result"
    }
   ],
   "source": [
    "dataset[\"fuel_type\"]"
   ]
  },
  {
   "cell_type": "code",
   "execution_count": 39,
   "id": "0b2711e7-7333-48db-bc2e-8faa8d9ccfbc",
   "metadata": {},
   "outputs": [],
   "source": [
    "# The Data is Correct."
   ]
  },
  {
   "cell_type": "markdown",
   "id": "1b3efc4a-d560-4d2d-a542-0650527e3f0f",
   "metadata": {},
   "source": [
    "# transmission (column 5)"
   ]
  },
  {
   "cell_type": "code",
   "execution_count": 40,
   "id": "1499f548-b925-4421-bef4-8f806c0a1ec2",
   "metadata": {},
   "outputs": [
    {
     "data": {
      "text/plain": [
       "0          Manual\n",
       "1       Automatic\n",
       "2       Automatic\n",
       "3       Automatic\n",
       "4          Manual\n",
       "          ...    \n",
       "5507    Automatic\n",
       "5508    Automatic\n",
       "5509    Automatic\n",
       "5510    Automatic\n",
       "5511    Automatic\n",
       "Name: transmission, Length: 5512, dtype: object"
      ]
     },
     "execution_count": 40,
     "metadata": {},
     "output_type": "execute_result"
    }
   ],
   "source": [
    "dataset[\"transmission\"]"
   ]
  },
  {
   "cell_type": "code",
   "execution_count": 41,
   "id": "bf330892-32a7-423d-ac5f-c8e85d339a77",
   "metadata": {},
   "outputs": [],
   "source": [
    "# The data is Correct."
   ]
  },
  {
   "cell_type": "markdown",
   "id": "41c80881-dd23-4736-a2f4-65b3141ff640",
   "metadata": {},
   "source": [
    "# ownership (column 6)"
   ]
  },
  {
   "cell_type": "code",
   "execution_count": 42,
   "id": "af2826a8-dd0a-40d0-aad1-d6ae4f6560a8",
   "metadata": {},
   "outputs": [
    {
     "data": {
      "text/plain": [
       "0       1st Owner\n",
       "1       1st Owner\n",
       "2       1st Owner\n",
       "3       1st Owner\n",
       "4       1st Owner\n",
       "          ...    \n",
       "5507    1st Owner\n",
       "5508    2nd Owner\n",
       "5509    2nd Owner\n",
       "5510    3rd Owner\n",
       "5511    2nd Owner\n",
       "Name: ownership, Length: 5512, dtype: object"
      ]
     },
     "execution_count": 42,
     "metadata": {},
     "output_type": "execute_result"
    }
   ],
   "source": [
    "dataset[\"ownership\"]"
   ]
  },
  {
   "cell_type": "markdown",
   "id": "6f8cc1e1-801d-4998-be6b-81392044efb3",
   "metadata": {},
   "source": [
    "* Problem Statement : \n",
    "   * "
   ]
  },
  {
   "cell_type": "code",
   "execution_count": 43,
   "id": "9a822cb5-d934-4925-a331-92a27185877e",
   "metadata": {},
   "outputs": [],
   "source": [
    "# Leave the \"ownership\" for later."
   ]
  },
  {
   "cell_type": "markdown",
   "id": "f5dfdd1e-e577-4bf6-ad79-7588b5338b3d",
   "metadata": {},
   "source": [
    "# manufacture (column 7)"
   ]
  },
  {
   "cell_type": "code",
   "execution_count": 44,
   "id": "e04315a7-ddf3-4f76-8bf4-fcb38b6b1fe6",
   "metadata": {},
   "outputs": [
    {
     "data": {
      "text/plain": [
       "0       2017\n",
       "1       2021\n",
       "2       2016\n",
       "3       2018\n",
       "4       2016\n",
       "        ... \n",
       "5507    2018\n",
       "5508    2015\n",
       "5509    2013\n",
       "5510    2015\n",
       "5511    2017\n",
       "Name: manufacture, Length: 5512, dtype: int64"
      ]
     },
     "execution_count": 44,
     "metadata": {},
     "output_type": "execute_result"
    }
   ],
   "source": [
    "dataset[\"manufacture\"]"
   ]
  },
  {
   "cell_type": "code",
   "execution_count": 45,
   "id": "c044b140-6672-403e-9e9c-4b1c5d2d5915",
   "metadata": {},
   "outputs": [],
   "source": [
    "# The data is correct."
   ]
  },
  {
   "cell_type": "markdown",
   "id": "e82e35d4-54cf-4b68-8228-13007cf44ef7",
   "metadata": {},
   "source": [
    "# engine (column 8)"
   ]
  },
  {
   "cell_type": "code",
   "execution_count": 46,
   "id": "365b2ecf-ef65-4215-bc98-24fc3452e647",
   "metadata": {},
   "outputs": [
    {
     "data": {
      "text/plain": [
       "0       1956 cc\n",
       "1       1330 cc\n",
       "2       2494 cc\n",
       "3       1199 cc\n",
       "4       1199 cc\n",
       "         ...   \n",
       "5507    2995 cc\n",
       "5508    1968 cc\n",
       "5509    2755 cc\n",
       "5510    2967 cc\n",
       "5511    1991 cc\n",
       "Name: engine, Length: 5512, dtype: object"
      ]
     },
     "execution_count": 46,
     "metadata": {},
     "output_type": "execute_result"
    }
   ],
   "source": [
    "dataset[\"engine\"]"
   ]
  },
  {
   "cell_type": "markdown",
   "id": "fd28ff6d-b190-4529-a5b0-3382925ac84e",
   "metadata": {},
   "source": [
    "* Problem Statement :\n",
    "   * \"cc\" should be removed.\n",
    "   * Convert datatype from Object to Int64."
   ]
  },
  {
   "cell_type": "code",
   "execution_count": 47,
   "id": "8fa31ad9-98bc-4027-a67a-014f6a57faa6",
   "metadata": {},
   "outputs": [
    {
     "data": {
      "text/plain": [
       "0       1956\n",
       "1       1330\n",
       "2       2494\n",
       "3       1199\n",
       "4       1199\n",
       "        ... \n",
       "5507    2995\n",
       "5508    1968\n",
       "5509    2755\n",
       "5510    2967\n",
       "5511    1991\n",
       "Name: engine, Length: 5512, dtype: object"
      ]
     },
     "execution_count": 47,
     "metadata": {},
     "output_type": "execute_result"
    }
   ],
   "source": [
    "# removing \"cc\".\n",
    "\n",
    "dataset[\"engine\"].str.replace(\" cc\",\"\")            # the code is correct."
   ]
  },
  {
   "cell_type": "code",
   "execution_count": 48,
   "id": "2a79da2c-eb53-4344-9d62-c9ec86343ba0",
   "metadata": {},
   "outputs": [],
   "source": [
    "# saving the changes to dataset.\n",
    "\n",
    "dataset[\"engine\"] = dataset[\"engine\"].str.replace(\" cc\",\"\")    # The code is correct."
   ]
  },
  {
   "cell_type": "code",
   "execution_count": 49,
   "id": "14df4187-ad96-49b5-84ad-4dfe3583feaa",
   "metadata": {},
   "outputs": [
    {
     "data": {
      "text/plain": [
       "0       1956\n",
       "1       1330\n",
       "2       2494\n",
       "3       1199\n",
       "4       1199\n",
       "        ... \n",
       "5507    2995\n",
       "5508    1968\n",
       "5509    2755\n",
       "5510    2967\n",
       "5511    1991\n",
       "Name: engine, Length: 5512, dtype: int64"
      ]
     },
     "execution_count": 49,
     "metadata": {},
     "output_type": "execute_result"
    }
   ],
   "source": [
    "# Converting datatype from object to int.\n",
    "\n",
    "dataset[\"engine\"].astype(\"int64\")"
   ]
  },
  {
   "cell_type": "code",
   "execution_count": 50,
   "id": "a42d026d-8c53-4af5-82b7-8ed59bdb817b",
   "metadata": {},
   "outputs": [],
   "source": [
    "# saving the changes to dataset.\n",
    "\n",
    "dataset[\"engine\"] = dataset[\"engine\"].astype(\"int64\")"
   ]
  },
  {
   "cell_type": "markdown",
   "id": "5209fc89-3871-4c70-a290-ad424b898c6e",
   "metadata": {},
   "source": [
    "# Seats (column 9)"
   ]
  },
  {
   "cell_type": "code",
   "execution_count": 51,
   "id": "2afeece2-ba1a-424f-a5c8-1f1fe5b1bc6f",
   "metadata": {},
   "outputs": [
    {
     "data": {
      "text/plain": [
       "0       5 Seats\n",
       "1       5 Seats\n",
       "2       5 Seats\n",
       "3       5 Seats\n",
       "4       5 Seats\n",
       "         ...   \n",
       "5507    7 Seats\n",
       "5508    5 Seats\n",
       "5509    5 Seats\n",
       "5510    6 Seats\n",
       "5511    5 Seats\n",
       "Name: Seats, Length: 5512, dtype: object"
      ]
     },
     "execution_count": 51,
     "metadata": {},
     "output_type": "execute_result"
    }
   ],
   "source": [
    "dataset[\"Seats\"]"
   ]
  },
  {
   "cell_type": "markdown",
   "id": "8ae4b73b-d1af-4165-a685-f45b1785ccab",
   "metadata": {},
   "source": [
    "* Problem Statement : \n",
    "    * Remove \" Seats\".\n",
    "    * Convert datatype to int64."
   ]
  },
  {
   "cell_type": "code",
   "execution_count": 52,
   "id": "670c7de1-a0ad-4ba2-a958-4c1edc1db997",
   "metadata": {},
   "outputs": [
    {
     "data": {
      "text/plain": [
       "0       5\n",
       "1       5\n",
       "2       5\n",
       "3       5\n",
       "4       5\n",
       "       ..\n",
       "5507    7\n",
       "5508    5\n",
       "5509    5\n",
       "5510    6\n",
       "5511    5\n",
       "Name: Seats, Length: 5512, dtype: object"
      ]
     },
     "execution_count": 52,
     "metadata": {},
     "output_type": "execute_result"
    }
   ],
   "source": [
    "# Removing \" Seats\". \n",
    "\n",
    "dataset[\"Seats\"].str.replace(\" Seats\",\"\")"
   ]
  },
  {
   "cell_type": "code",
   "execution_count": 53,
   "id": "68cc5b34-d01f-444c-b801-059b1eee538f",
   "metadata": {},
   "outputs": [],
   "source": [
    "# saving the changes to dataset.\n",
    "\n",
    "dataset[\"Seats\"] = dataset[\"Seats\"].str.replace(\" Seats\",\"\")"
   ]
  },
  {
   "cell_type": "code",
   "execution_count": 54,
   "id": "b2667451-d16b-4f90-981b-4e4d6585520b",
   "metadata": {},
   "outputs": [
    {
     "data": {
      "text/plain": [
       "0       5\n",
       "1       5\n",
       "2       5\n",
       "3       5\n",
       "4       5\n",
       "       ..\n",
       "5507    7\n",
       "5508    5\n",
       "5509    5\n",
       "5510    6\n",
       "5511    5\n",
       "Name: Seats, Length: 5512, dtype: int64"
      ]
     },
     "execution_count": 54,
     "metadata": {},
     "output_type": "execute_result"
    }
   ],
   "source": [
    "# Converting Datatype from Object to Int64.\n",
    "\n",
    "dataset[\"Seats\"].astype(\"int64\")"
   ]
  },
  {
   "cell_type": "code",
   "execution_count": 55,
   "id": "61b224cc-9652-4062-8267-7664046ac88c",
   "metadata": {},
   "outputs": [],
   "source": [
    "# saving the changes to dataset.\n",
    "\n",
    "dataset[\"Seats\"] = dataset[\"Seats\"].astype(\"int64\")"
   ]
  },
  {
   "cell_type": "markdown",
   "id": "e9c523be-3a57-430e-922c-bc7ee247ff53",
   "metadata": {},
   "source": [
    "# company_name(column 10)"
   ]
  },
  {
   "cell_type": "code",
   "execution_count": 56,
   "id": "fbd47dd0-84be-4f79-9635-58a4036804c0",
   "metadata": {},
   "outputs": [
    {
     "data": {
      "text/plain": [
       "0             Jeep\n",
       "1          Renault\n",
       "2           Toyota\n",
       "3            Honda\n",
       "4       Volkswagen\n",
       "           ...    \n",
       "5507           BMW\n",
       "5508           BMW\n",
       "5509        Jaguar\n",
       "5510           BMW\n",
       "5511           BMW\n",
       "Name: company_name, Length: 5512, dtype: object"
      ]
     },
     "execution_count": 56,
     "metadata": {},
     "output_type": "execute_result"
    }
   ],
   "source": [
    "dataset[\"company_name\"]"
   ]
  },
  {
   "cell_type": "code",
   "execution_count": 57,
   "id": "32c061fe-2558-496f-a59a-bb26102bd064",
   "metadata": {},
   "outputs": [],
   "source": [
    "# The data is correct."
   ]
  },
  {
   "cell_type": "markdown",
   "id": "cc2b298f-0bd6-4b7f-b782-dfe53fdf9dc7",
   "metadata": {},
   "source": [
    "*NOTE : The mistake is not avalible in this dataset but need to have knowledge about that.\n",
    "\n",
    "* Suppose the Date is not in correct format.for example \"manufacture_date\" is a column and it's format is in 7 january,2022 format. which is not correct. So, to solve this we will write following code:\n",
    "\n",
    "    * pd.to_datetime(dataset[\"manufacture_date\"])  # The date format will be corrected eg: 2022-01-07.\n",
    "    * dataset[\"manufacture_date\"] = pd.to_datetime(dataset[\"manufacture_date\"])  # save the changes to dataset."
   ]
  },
  {
   "cell_type": "code",
   "execution_count": 58,
   "id": "279597b7-6455-4f53-bf13-7cfa0b642fcf",
   "metadata": {},
   "outputs": [
    {
     "data": {
      "text/html": [
       "<div>\n",
       "<style scoped>\n",
       "    .dataframe tbody tr th:only-of-type {\n",
       "        vertical-align: middle;\n",
       "    }\n",
       "\n",
       "    .dataframe tbody tr th {\n",
       "        vertical-align: top;\n",
       "    }\n",
       "\n",
       "    .dataframe thead th {\n",
       "        text-align: right;\n",
       "    }\n",
       "</style>\n",
       "<table border=\"1\" class=\"dataframe\">\n",
       "  <thead>\n",
       "    <tr style=\"text-align: right;\">\n",
       "      <th></th>\n",
       "      <th>car_name</th>\n",
       "      <th>car_prices_in_rupee</th>\n",
       "      <th>kms_driven</th>\n",
       "      <th>fuel_type</th>\n",
       "      <th>transmission</th>\n",
       "      <th>ownership</th>\n",
       "      <th>manufacture</th>\n",
       "      <th>engine</th>\n",
       "      <th>Seats</th>\n",
       "      <th>company_name</th>\n",
       "    </tr>\n",
       "  </thead>\n",
       "  <tbody>\n",
       "    <tr>\n",
       "      <th>0</th>\n",
       "      <td>Compass 2.0 Longitude Option BSIV</td>\n",
       "      <td>1003000.0</td>\n",
       "      <td>86226</td>\n",
       "      <td>Diesel</td>\n",
       "      <td>Manual</td>\n",
       "      <td>1st Owner</td>\n",
       "      <td>2017</td>\n",
       "      <td>1956</td>\n",
       "      <td>5</td>\n",
       "      <td>Jeep</td>\n",
       "    </tr>\n",
       "    <tr>\n",
       "      <th>1</th>\n",
       "      <td>Duster RXZ Turbo CVT</td>\n",
       "      <td>1283000.0</td>\n",
       "      <td>13248</td>\n",
       "      <td>Petrol</td>\n",
       "      <td>Automatic</td>\n",
       "      <td>1st Owner</td>\n",
       "      <td>2021</td>\n",
       "      <td>1330</td>\n",
       "      <td>5</td>\n",
       "      <td>Renault</td>\n",
       "    </tr>\n",
       "    <tr>\n",
       "      <th>2</th>\n",
       "      <td>Camry 2.5 G</td>\n",
       "      <td>1640000.0</td>\n",
       "      <td>60343</td>\n",
       "      <td>Petrol</td>\n",
       "      <td>Automatic</td>\n",
       "      <td>1st Owner</td>\n",
       "      <td>2016</td>\n",
       "      <td>2494</td>\n",
       "      <td>5</td>\n",
       "      <td>Toyota</td>\n",
       "    </tr>\n",
       "    <tr>\n",
       "      <th>3</th>\n",
       "      <td>Jazz VX CVT</td>\n",
       "      <td>777000.0</td>\n",
       "      <td>26696</td>\n",
       "      <td>Petrol</td>\n",
       "      <td>Automatic</td>\n",
       "      <td>1st Owner</td>\n",
       "      <td>2018</td>\n",
       "      <td>1199</td>\n",
       "      <td>5</td>\n",
       "      <td>Honda</td>\n",
       "    </tr>\n",
       "    <tr>\n",
       "      <th>4</th>\n",
       "      <td>Polo 1.2 MPI Highline</td>\n",
       "      <td>515000.0</td>\n",
       "      <td>69414</td>\n",
       "      <td>Petrol</td>\n",
       "      <td>Manual</td>\n",
       "      <td>1st Owner</td>\n",
       "      <td>2016</td>\n",
       "      <td>1199</td>\n",
       "      <td>5</td>\n",
       "      <td>Volkswagen</td>\n",
       "    </tr>\n",
       "  </tbody>\n",
       "</table>\n",
       "</div>"
      ],
      "text/plain": [
       "                            car_name  car_prices_in_rupee  kms_driven  \\\n",
       "0  Compass 2.0 Longitude Option BSIV            1003000.0       86226   \n",
       "1               Duster RXZ Turbo CVT            1283000.0       13248   \n",
       "2                        Camry 2.5 G            1640000.0       60343   \n",
       "3                        Jazz VX CVT             777000.0       26696   \n",
       "4              Polo 1.2 MPI Highline             515000.0       69414   \n",
       "\n",
       "  fuel_type transmission  ownership  manufacture  engine  Seats company_name  \n",
       "0    Diesel       Manual  1st Owner         2017    1956      5         Jeep  \n",
       "1    Petrol    Automatic  1st Owner         2021    1330      5      Renault  \n",
       "2    Petrol    Automatic  1st Owner         2016    2494      5       Toyota  \n",
       "3    Petrol    Automatic  1st Owner         2018    1199      5        Honda  \n",
       "4    Petrol       Manual  1st Owner         2016    1199      5   Volkswagen  "
      ]
     },
     "execution_count": 58,
     "metadata": {},
     "output_type": "execute_result"
    }
   ],
   "source": [
    "dataset.head(5)"
   ]
  },
  {
   "cell_type": "markdown",
   "id": "46d3d34c-28a9-4998-b4d7-05d8ff0010fa",
   "metadata": {},
   "source": [
    "# Now this Data is ready for Analysis."
   ]
  },
  {
   "cell_type": "code",
   "execution_count": null,
   "id": "12ebbf8d-336a-4673-a45f-f8a3b3d43651",
   "metadata": {},
   "outputs": [],
   "source": []
  },
  {
   "cell_type": "markdown",
   "id": "45891e3e-bb93-4f22-b11e-fcab4b806f3f",
   "metadata": {},
   "source": [
    "# Filling unwanted outliers."
   ]
  },
  {
   "cell_type": "markdown",
   "id": "c800ebed-0877-4091-aa1d-6ac947a93828",
   "metadata": {},
   "source": [
    "* In this Dataset there is no unwanted outlier avaliable.  \n",
    "* NOTE: to see outlier the data must contain numeric value.\n",
    "\n",
    "* To see outlier we can use boxplot. \n",
    "    *     eg:  plt.figure(figsize = (4,5))\n",
    "    *          sns.boxplot(x=\"column_name\",data=dataset)\n",
    "    *          plt.show()"
   ]
  },
  {
   "cell_type": "code",
   "execution_count": null,
   "id": "b6fb8756-0c6b-4147-885a-ef0013c612b8",
   "metadata": {},
   "outputs": [],
   "source": []
  }
 ],
 "metadata": {
  "kernelspec": {
   "display_name": "Python 3 (ipykernel)",
   "language": "python",
   "name": "python3"
  },
  "language_info": {
   "codemirror_mode": {
    "name": "ipython",
    "version": 3
   },
   "file_extension": ".py",
   "mimetype": "text/x-python",
   "name": "python",
   "nbconvert_exporter": "python",
   "pygments_lexer": "ipython3",
   "version": "3.12.0"
  },
  "widgets": {
   "application/vnd.jupyter.widget-state+json": {
    "state": {},
    "version_major": 2,
    "version_minor": 0
   }
  }
 },
 "nbformat": 4,
 "nbformat_minor": 5
}
